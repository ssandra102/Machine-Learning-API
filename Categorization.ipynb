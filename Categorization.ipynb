{
 "cells": [
  {
   "cell_type": "code",
   "execution_count": 1,
   "id": "475c3150",
   "metadata": {},
   "outputs": [],
   "source": [
    "import pandas as pd\n",
    "import numpy as np\n",
    "import matplotlib.pyplot as plt\n",
    "\n",
    "import re\n",
    "import nltk\n",
    "import stopwords\n",
    "from nltk.stem.snowball import SnowballStemmer\n",
    "from nltk.stem import PorterStemmer\n",
    "from nltk.tokenize import sent_tokenize, word_tokenize\n",
    "\n",
    "from sklearn.feature_extraction.text import CountVectorizer, TfidfTransformer\n",
    "from sklearn.model_selection import train_test_split\n",
    "from sklearn.pipeline import Pipeline\n",
    "\n",
    "from sklearn.linear_model import LogisticRegression\n",
    "from sklearn.naive_bayes import MultinomialNB\n",
    "from sklearn.ensemble import RandomForestClassifier, GradientBoostingClassifier\n",
    "from sklearn.svm import LinearSVC\n",
    "\n",
    "from sklearn.metrics import accuracy_score, classification_report\n",
    "\n",
    "import pickle\n",
    "from joblib import dump, load\n",
    "     "
   ]
  },
  {
   "cell_type": "code",
   "execution_count": 2,
   "id": "ebe4b0f4",
   "metadata": {},
   "outputs": [
    {
     "data": {
      "text/html": [
       "<div>\n",
       "<style scoped>\n",
       "    .dataframe tbody tr th:only-of-type {\n",
       "        vertical-align: middle;\n",
       "    }\n",
       "\n",
       "    .dataframe tbody tr th {\n",
       "        vertical-align: top;\n",
       "    }\n",
       "\n",
       "    .dataframe thead th {\n",
       "        text-align: right;\n",
       "    }\n",
       "</style>\n",
       "<table border=\"1\" class=\"dataframe\">\n",
       "  <thead>\n",
       "    <tr style=\"text-align: right;\">\n",
       "      <th></th>\n",
       "      <th>Product</th>\n",
       "      <th>Item</th>\n",
       "      <th>Category</th>\n",
       "    </tr>\n",
       "  </thead>\n",
       "  <tbody>\n",
       "    <tr>\n",
       "      <th>0</th>\n",
       "      <td>\"Prada Striped Shell Belt Bag\"</td>\n",
       "      <td>Bags</td>\n",
       "      <td>Accessories</td>\n",
       "    </tr>\n",
       "    <tr>\n",
       "      <th>1</th>\n",
       "      <td>\"Falke - Lhasa Wool And Cashmere-blend Socks -...</td>\n",
       "      <td>Socks</td>\n",
       "      <td>Accessories</td>\n",
       "    </tr>\n",
       "    <tr>\n",
       "      <th>2</th>\n",
       "      <td>\"Thom Browne Navy 4-Bar Rib Gloves\"</td>\n",
       "      <td>Gloves</td>\n",
       "      <td>Accessories</td>\n",
       "    </tr>\n",
       "    <tr>\n",
       "      <th>3</th>\n",
       "      <td>\"Alice Made This - Bayley Round Patina-brass C...</td>\n",
       "      <td>Cufflinks</td>\n",
       "      <td>Accessories</td>\n",
       "    </tr>\n",
       "    <tr>\n",
       "      <th>4</th>\n",
       "      <td>\"Bode Off-White Sherpa Half-Zip Mittens\"</td>\n",
       "      <td>Gloves</td>\n",
       "      <td>Accessories</td>\n",
       "    </tr>\n",
       "  </tbody>\n",
       "</table>\n",
       "</div>"
      ],
      "text/plain": [
       "                                             Product       Item     Category\n",
       "0                     \"Prada Striped Shell Belt Bag\"       Bags  Accessories\n",
       "1  \"Falke - Lhasa Wool And Cashmere-blend Socks -...      Socks  Accessories\n",
       "2                \"Thom Browne Navy 4-Bar Rib Gloves\"     Gloves  Accessories\n",
       "3  \"Alice Made This - Bayley Round Patina-brass C...  Cufflinks  Accessories\n",
       "4           \"Bode Off-White Sherpa Half-Zip Mittens\"     Gloves  Accessories"
      ]
     },
     "execution_count": 2,
     "metadata": {},
     "output_type": "execute_result"
    }
   ],
   "source": [
    "df = pd.read_csv('DATA1.csv')\n",
    "df.head()"
   ]
  },
  {
   "cell_type": "code",
   "execution_count": 3,
   "id": "83effe30",
   "metadata": {},
   "outputs": [
    {
     "data": {
      "text/plain": [
       "(11179, 3)"
      ]
     },
     "execution_count": 3,
     "metadata": {},
     "output_type": "execute_result"
    }
   ],
   "source": [
    "df.shape"
   ]
  },
  {
   "cell_type": "code",
   "execution_count": 7,
   "id": "a34e1395",
   "metadata": {},
   "outputs": [
    {
     "data": {
      "text/plain": [
       "array(['Bags', 'Socks', 'Gloves', 'Cufflinks', 'Tech Accessories', 'Ties',\n",
       "       'Eyewear', 'Pocket Squares', 'Hats', 'Pins and Clips', 'Belts',\n",
       "       'Wallets', 'Scarves', 'Active Pants', 'Sweatshirts/Hoodies',\n",
       "       'Shirts', 'Diapers', 'Baby Creams & Lotions', 'Baby Powder',\n",
       "       'Baby Wipes', 'Baby Oil & Shampoo', 'Baby Laundry',\n",
       "       'Baby Gift Sets', 'Baby Health', 'Baby Bath',\n",
       "       'Combs, Brushes, Clippers', 'Maternity Personal Care',\n",
       "       'Baby Oral Care', 'Paneer, Tofu & Cream', 'Milk',\n",
       "       'Butter & Margarine', 'Curd', 'Dairy Free (Vegan)',\n",
       "       'Flavoured, Soya Milk', 'Cheese', 'Bakery Biscuits, Cookies',\n",
       "       'Croissants, Bagels', 'Tea Cakes & Slice Cakes', 'Rusks',\n",
       "       'Khari & Cream Rolls', 'Yogurt & Shrikhand', 'Ice Creams',\n",
       "       'Premium Cookies', 'Doughnuts & Mousses', 'Bread Sticks & Lavash',\n",
       "       'Breadcrumbs & Croutons', 'Muffins & Cup Cakes', 'Gourmet Bread',\n",
       "       'Pastries & Brownies', 'Bathing Bars & Soaps', 'Toothpaste',\n",
       "       'Antiseptics & Bandages', 'Face Care', 'Body Care', 'Lips',\n",
       "       'Shampoo & Conditioner', 'Shaving Care', 'Makeup Accessories',\n",
       "       'Hand Wash & Sanitizers', \"Women's Deodorants\", 'Sanitary Napkins',\n",
       "       \"Men's Deodorants\", 'Eyes', 'Mouthwash', 'Shower Gel & Body Wash',\n",
       "       'Hair Oil & Serum', 'Face Masks & Safety Gears', 'Bath & Shower',\n",
       "       'Hair & Scalp Treatment', 'Hair Color', 'Hair Care & Styling',\n",
       "       'Face & Body', 'Face', 'Nails', 'Bathing Accessories',\n",
       "       'Everyday Medicine', 'Lip Care', 'Sexual Wellness', 'Aromatherapy',\n",
       "       'Toothbrush', 'Perfume', 'Ayurveda', 'Talc', 'Electric Toothbrush',\n",
       "       'Tampons & Menstrual Cups', 'Supplements & Proteins',\n",
       "       'Hair Removal', 'Eau De Parfum', 'Body Sprays & Mists',\n",
       "       'Adult Diapers', 'Eye Care', 'Eau De Toilette',\n",
       "       'Moustache & Beard Care', 'Tools & Accessories', 'Eau De Cologne',\n",
       "       'Bath Salts & Oils', 'Attar', 'Intimate Wash & Care', 'Gift Sets',\n",
       "       'Body Scrubs & Exfoliants', 'Makeup Kits & Gift Sets',\n",
       "       'Hair Styling', 'Cotton & Ear Buds', 'Combos & Gift Sets',\n",
       "       'Leaf & Dust Tea', 'Juices', 'Instant Coffee', 'Cold Drinks',\n",
       "       'Unsweetened, Cold Press', 'Ground Coffee',\n",
       "       'Syrups & Concentrates', 'Green Tea', 'Children (2-5 Yrs)',\n",
       "       'Exotic & Flavoured Tea', 'Tea Bags', 'Kids (5+Yrs)',\n",
       "       'Non Alcoholic Drinks', 'Item', 'Toilet Cleaners',\n",
       "       'Detergent Powder, Liquid', 'Mops, Wipers', 'Buckets & Mugs',\n",
       "       'Disinfectant Spray & Cleaners', 'Floor & Other Cleaners',\n",
       "       'Toilet Paper', 'Paper Napkin, Tissue Box', 'Dust Cloth & Wipes',\n",
       "       'Hangers, Clips & Rope', 'Toilet & Other Brushes',\n",
       "       'Brooms & Dust Pans', 'Disposable Cups & Plates', 'Dustbins',\n",
       "       'Colours & Crayons', 'Laundry, Storage Baskets', 'Rakhi',\n",
       "       'Other Pooja Needs', 'Soap Cases & Dispensers',\n",
       "       'Bath Stool, Basin & Sets', 'Mosquito Repellent',\n",
       "       'Scissor, Glue & Tape', 'Utensil Scrub-Pad, Glove',\n",
       "       'Agarbatti, Incense Sticks', 'Seasonal Accessories', 'Decorations',\n",
       "       'Air Freshener', 'Games & Calculators', 'Holi Colours & Pichkari',\n",
       "       'Caps, Balloons & Candles', 'Fabric Pre, Post Wash',\n",
       "       'Kitchen, Glass & Drain', 'Dishwash Liquids & Pastes',\n",
       "       'Candles & Match Box', 'Erasers & Sharpeners',\n",
       "       'Aluminium Foil, Clingwrap', 'Pooja Thali & Bells',\n",
       "       'Shoe Shiners & Brushes', 'Dishwash Bars & Powders',\n",
       "       'Electronic Accessories', 'Shoe Polish',\n",
       "       'Notebooks, Files, Folders', 'Lamp & Lamp Oil',\n",
       "       'Exam Pads & Pencil Box', 'Farm Eggs', 'Fresh Chicken',\n",
       "       'Fresh Mutton', 'Protein Eggs', 'Fresh Water Fish',\n",
       "       'Marine Water Fish', 'Marinated Meat', 'Prawns & Shrimps',\n",
       "       'Chicken Sausages', 'Other Seafood', 'Frozen Fish & Seafood',\n",
       "       'Atta Whole Wheat', 'Raw Rice', 'Whole Spices',\n",
       "       'Sunflower, Rice Bran Oil', 'Toor, Channa & Moong Dal',\n",
       "       'Sooji, Maida & Besan', 'Poha, Sabudana & Murmura',\n",
       "       'Urad & Other Dals', 'Organic Dry Fruits',\n",
       "       'Organic Sugar, Jaggery', 'Rice & Other Flours',\n",
       "       'Boiled & Steam Rice', 'Blended Cooking Oils',\n",
       "       'Organic Masalas & Spices', 'Organic Rice, Other Rice', 'Almonds',\n",
       "       'Olive & Canola Oils', 'Organic Dals & Pulses', 'Other Dry Fruits',\n",
       "       'Cashews', 'Sugar & Jaggery', 'Cereals & Millets',\n",
       "       'Organic Edible Oil, Ghee', 'Basmati Rice', 'Salts',\n",
       "       'Organic Millet & Flours', 'Raisins', 'Organic Flours',\n",
       "       'Cooking Coconut Oil', 'Sugarfree Sweeteners', 'Cooking Pastes',\n",
       "       'Powdered Spices', 'Mukhwas', 'Blended Masalas',\n",
       "       'Ghee & Vanaspati', 'Herbs & Seasoning', 'Gingelly Oil',\n",
       "       'Potato, Onion & Tomato', 'Root Vegetables',\n",
       "       'Beans, Brinjals & Okra', 'Gourd, Pumpkin, Drumstick',\n",
       "       'Cucumber & Capsicum', 'Leafy Vegetables',\n",
       "       'Lemon, Ginger & Garlic', 'Indian & Exotic Herbs',\n",
       "       'Organic Vegetables', 'Specialty', 'Cut & Peeled Veggies',\n",
       "       'Seasonal Fruits', 'Cut Fruit, Tender Coconut', 'Organic Fruits',\n",
       "       'Apples & Pomegranate', 'Exotic Vegetables',\n",
       "       'Extra Virgin Olive Oil', 'Pastas & Spaghetti',\n",
       "       'Dry Fruits & Berries', 'Roasted Seeds & Nuts', 'Nachos & Chips',\n",
       "       'Pure, Pomace Olive Oil', 'Mustard & Cheese Sauces',\n",
       "       'Healthy, Baked Snacks', 'Jams, Marmalade, Spreads',\n",
       "       'Luxury Chocolates, Gifts', 'Salad Dressings',\n",
       "       'Olive, Jalapeno, Gherkin', 'Hummus, Cheese, Salsa Dip',\n",
       "       'Organic & Cold Press Oil', 'International Chocolates',\n",
       "       'Quinoa & Grains', 'Cereal & Granola Bars',\n",
       "       'Canola & Rapeseed Oil', 'Beans & Pulses',\n",
       "       'Cooking Chocolate, Cocoa', 'Flours & Pre-Mixes',\n",
       "       'Imported Noodles', 'Gourmet Tea & Tea Bags',\n",
       "       'Chocolate, Peanut Spread', 'Health Drinks', 'Honey & Maple Syrup',\n",
       "       'Aerated, Still, Sparkling', 'Muesli & Rice Cakes',\n",
       "       'Thai & Asian Sauces', 'Herbs, Seasonings & Rubs',\n",
       "       'Gourmet Juices & Drinks', 'Balsamic & Cider Vinegar',\n",
       "       'Coffee & Pre-Mix', 'Marshmallow, Candy, Jelly',\n",
       "       'Flavoured & Greek Yogurt', 'Curry Paste, Coconut Milk',\n",
       "       'Exotic Sugar & Salt', 'Milk & Soya Drinks',\n",
       "       'Non-Alcoholic Beer, Wine', 'Imported Oats & Porridge',\n",
       "       'Tomatoes & Vegetables', 'Overshirts', 'Coats', 'Vests', 'Jackets',\n",
       "       'Watches', 'Jewelry', 'Battery & Electrical', 'Pet Meals & Treats',\n",
       "       'Water & Fridge Bottles', 'Knives & Peelers', 'Containers Sets',\n",
       "       'CFL & Led Bulbs', 'Wall Hooks & Hangers', 'Tawa & Sauce Pan',\n",
       "       'Plates & Bowls', 'Cookware Sets', 'Glassware',\n",
       "       'Choppers & Graters', 'Steel Storage Containers',\n",
       "       'Pressure Cookers', 'Cups, Mugs & Tumblers', 'Lunch Boxes',\n",
       "       'Cook And Serve', 'Plates & Tumblers', 'Umbrella',\n",
       "       'Bakeware Accessories', 'Racks & Holders', 'Kadai & Fry Pans',\n",
       "       'Casserole', 'Kitchen Tools & Other Accessories',\n",
       "       'Baking Tools & Brushes', 'Vacuum Flask', 'Microwavable Cookware',\n",
       "       'Gas Stove', 'Pet Cleaning & Grooming', 'Dinner Sets',\n",
       "       'Bakeware Moulds, Cutters', 'Pots, Planters & Trays',\n",
       "       'Copper Utensils', 'Bowls & Vessels', 'Strainer, Ladle, Spatula',\n",
       "       'Gardening Tools', 'Fertilizers & Pesticides', 'Steel Lunch Boxes',\n",
       "       'Cloth Dryer & Iron Table', 'Cutlery, Spoon & Fork',\n",
       "       'Pet Collars & Leashes', 'Lighters', 'Pet Feeding Support',\n",
       "       'Denim', 'Pants', 'Shorts', 'Chinos', 'T-Shirts', 'Polos', 'Boots',\n",
       "       'Loafers', 'Slides/Slipper', 'Oxfords', 'Sandals', 'Derbys',\n",
       "       'Sneakers', 'Instant Noodles', 'Breakfast & Snack Mixes',\n",
       "       'Frozen Vegetables', 'Oats & Porridge', 'Honey', 'Kids Cereal',\n",
       "       'Chocolates', 'Namkeen & Savoury Snacks',\n",
       "       'Tomato Ketchup & Sauces', 'Cream Biscuits & Wafers',\n",
       "       'Chips & Corn Snacks', 'Home Baking', 'Cookies', 'Muesli',\n",
       "       'Marie, Health, Digestive', 'Glucose & Milk Biscuits',\n",
       "       'Pasta & Macaroni', 'Chikki & Gajjak', 'Frozen Veg Snacks',\n",
       "       'Granola & Cereal Bars', 'Other Veg Pickle',\n",
       "       'Toffee, Candy & Lollypop', 'Chilli & Soya Sauce', 'Gift Boxes',\n",
       "       'Frozen Indian Breads', 'Fresh Sweets', 'Frozen Non-Veg Snacks',\n",
       "       'Instant Pasta', 'Chutney Powder', 'Choco & Nut Spread',\n",
       "       'Mayonnaise', 'Heat & Eat Ready Meals', 'Papads, Ready To Fry',\n",
       "       'Tinned, Packed Sweets', 'Salted Biscuits', 'Non Veg Pickle',\n",
       "       'Dessert Mixes', 'Flakes', 'Hakka Noodles', 'Vinegar',\n",
       "       'Jam, Conserve, Marmalade', 'Tuxedos', 'Suits', 'Cardigans',\n",
       "       'Sweaters', 'Robes', 'Boxers & Briefs', 'Loungewear'], dtype=object)"
      ]
     },
     "execution_count": 7,
     "metadata": {},
     "output_type": "execute_result"
    }
   ],
   "source": [
    "df.Item.unique()"
   ]
  },
  {
   "cell_type": "code",
   "execution_count": 9,
   "id": "2caac561",
   "metadata": {},
   "outputs": [
    {
     "data": {
      "text/plain": [
       "array(['\"Prada Striped Shell Belt Bag\"',\n",
       "       '\"Falke - Lhasa Wool And Cashmere-blend Socks - Mens - Navy\"',\n",
       "       '\"Thom Browne Navy 4-Bar Rib Gloves\"', ...,\n",
       "       '\"Men\\'s Barocco Logo Bath Robe\"',\n",
       "       '\"Men\\'s Majestic International Stretch Out Shawl Collar Robe\"',\n",
       "       '\"Men\\'s Polo Ralph Lauren Boulder Cotton Boxers\"'], dtype=object)"
      ]
     },
     "execution_count": 9,
     "metadata": {},
     "output_type": "execute_result"
    }
   ],
   "source": [
    "df.Product.unique()"
   ]
  },
  {
   "cell_type": "code",
   "execution_count": 8,
   "id": "edda5f98",
   "metadata": {},
   "outputs": [
    {
     "data": {
      "text/plain": [
       "Beauty & Hygiene            3284\n",
       "Kitchen, Garden & Pets      1233\n",
       "Accessories                 1154\n",
       "Shoes                        811\n",
       "Shirts                       540\n",
       "Activewear                   503\n",
       "Pants                        487\n",
       "Cleaning & Household         485\n",
       "Foodgrains, Oil & Masala     445\n",
       "Gourmet & World Food         393\n",
       "Snacks & Branded Foods       304\n",
       "coats                        289\n",
       "Eggs, Meat & Fish            281\n",
       "Underwear and Nightwear      212\n",
       "Suits                        160\n",
       "Sweaters                     132\n",
       "Bakery, Cakes & Dairy        119\n",
       "Jewelry                       97\n",
       "Beverages                     96\n",
       "Baby Care                     94\n",
       "Fruits & Vegetables           59\n",
       "Category                       1\n",
       "Name: Category, dtype: int64"
      ]
     },
     "execution_count": 8,
     "metadata": {},
     "output_type": "execute_result"
    }
   ],
   "source": [
    "df['Category'].value_counts()"
   ]
  },
  {
   "cell_type": "code",
   "execution_count": 7,
   "id": "5adb3501",
   "metadata": {},
   "outputs": [
    {
     "data": {
      "text/plain": [
       "['this', 'is', 'not', 'a', 'sentence']"
      ]
     },
     "execution_count": 7,
     "metadata": {},
     "output_type": "execute_result"
    }
   ],
   "source": [
    "import re\n",
    "\n",
    "\n",
    "def clean_text(text):\n",
    "    \n",
    "    # remove HTML tags\n",
    "    text = re.sub(r'<.*?>', '', text)\n",
    "    \n",
    "    # remove the characters [\\], ['] and [\"]\n",
    "    text = re.sub(r\"\\\\\", \"\", text)    \n",
    "    text = re.sub(r\"\\'\", \"\", text)    \n",
    "    text = re.sub(r\"\\\"\", \"\", text)    \n",
    "    \n",
    "    # convert text to lowercase\n",
    "    text = text.strip().lower()\n",
    "    \n",
    "    # replace punctuation characters with spaces\n",
    "    filters='!\"\\'#$%&()*+,-./:;<=>?@[\\\\]^_`{|}~\\t\\n'\n",
    "    translate_dict = dict((c, \" \") for c in filters)\n",
    "    translate_map = str.maketrans(translate_dict)\n",
    "    text = text.translate(translate_map)\n",
    "\n",
    "    return text\n",
    "clean_text(\"<div>This is not a sentence.<\\div>\").split()"
   ]
  },
  {
   "cell_type": "code",
   "execution_count": 8,
   "id": "509876e5",
   "metadata": {},
   "outputs": [],
   "source": [
    "# df1 = df.copy()\n",
    "# df1['description'] = df1['description'].apply('clean_text', text=df1['description'])"
   ]
  },
  {
   "cell_type": "code",
   "execution_count": 10,
   "id": "2476d3f2",
   "metadata": {},
   "outputs": [],
   "source": [
    "\n",
    "target = {\n",
    "       'Beauty & Hygiene' : 0,\n",
    "       'Kitchen, Garden & Pets': 1, \n",
    "       'Accessories' : 2,\n",
    "       'Shoes' : 3,\n",
    "       'Shirts' : 4,\n",
    "       'Activewear' : 5,\n",
    "       'Pants' : 6,\n",
    "       'Cleaning & Household' : 7,\n",
    "       'Foodgrains, Oil & Masala' : 8,\n",
    "       'Gourmet & World Food' : 9,\n",
    "       'Snacks & Branded Foods' : 10,\n",
    "       'Coats' : 11,\n",
    "       'Eggs, Meat & Fish' : 12,\n",
    "       'Underwear and Nightwear' : 13,\n",
    "       'Suits' : 14,\n",
    "       'Sweaters' : 15,\n",
    "       'Bakery, Cakes & Dairy' : 16,\n",
    "       'Jewelry' : 17,\n",
    "       'Beverages' : 18,\n",
    "       'Baby Care' : 19,\n",
    "       'Fruits & Vegetables' : 20 \n",
    "}"
   ]
  },
  {
   "cell_type": "code",
   "execution_count": 11,
   "id": "54773217",
   "metadata": {},
   "outputs": [],
   "source": [
    "df['target']=df['Category'].map(target)\n",
    "df = df.dropna()"
   ]
  },
  {
   "cell_type": "code",
   "execution_count": 12,
   "id": "38f97e67",
   "metadata": {},
   "outputs": [
    {
     "data": {
      "text/plain": [
       "array([ 2.,  5., 19., 16.,  0., 18.,  7., 12.,  8., 20.,  9., 17.,  1.,\n",
       "        6.,  4.,  3., 10., 14., 15., 13.])"
      ]
     },
     "execution_count": 12,
     "metadata": {},
     "output_type": "execute_result"
    }
   ],
   "source": [
    "# df.head(-5)\n",
    "df.target.unique()"
   ]
  },
  {
   "cell_type": "code",
   "execution_count": 13,
   "id": "995f77a7",
   "metadata": {},
   "outputs": [],
   "source": [
    "from sklearn.model_selection import train_test_split\n",
    "X_train, X_test = train_test_split(df, test_size=0.2, random_state=111)"
   ]
  },
  {
   "cell_type": "code",
   "execution_count": 14,
   "id": "b3cecb89",
   "metadata": {},
   "outputs": [],
   "source": [
    "\n",
    "stemmer = nltk.stem.SnowballStemmer('english')"
   ]
  },
  {
   "cell_type": "code",
   "execution_count": 15,
   "id": "26a22b64",
   "metadata": {},
   "outputs": [
    {
     "data": {
      "text/plain": [
       "['i',\n",
       " \"you've\",\n",
       " 'himself',\n",
       " 'they',\n",
       " 'that',\n",
       " 'been',\n",
       " 'a',\n",
       " 'while',\n",
       " 'through',\n",
       " 'in',\n",
       " 'here',\n",
       " 'few',\n",
       " 'own',\n",
       " 'just',\n",
       " 're',\n",
       " 'doesn',\n",
       " 'ma',\n",
       " \"shouldn't\"]"
      ]
     },
     "execution_count": 15,
     "metadata": {},
     "output_type": "execute_result"
    }
   ],
   "source": [
    "file_path = \"stopwords\\english\" \n",
    "with open(file_path, \"r\") as file:\n",
    "    stopwords = file.readlines()\n",
    "\n",
    "stop = [line.rstrip('\\n') for line in stopwords]\n",
    "stop[::10]"
   ]
  },
  {
   "cell_type": "code",
   "execution_count": 16,
   "id": "1cf38c46",
   "metadata": {},
   "outputs": [],
   "source": [
    "porter = PorterStemmer()"
   ]
  },
  {
   "cell_type": "code",
   "execution_count": 17,
   "id": "b3916697",
   "metadata": {},
   "outputs": [],
   "source": [
    "def preprocess_data(text):\n",
    "    ''' The function to remove punctuation,\n",
    "    stopwords and apply stemming'''\n",
    "    \n",
    "    words = re.sub(\"[^a-zA-Z]\", \" \", text)\n",
    "    words = [word.lower() for word in text.split() if word.lower() not in stop]\n",
    "    words = [porter.stem(word) for word in words]\n",
    "    return \" \".join(words)"
   ]
  },
  {
   "cell_type": "code",
   "execution_count": 18,
   "id": "0d4b0a9e",
   "metadata": {},
   "outputs": [],
   "source": [
    "df['Product'] = df['Product'].apply(preprocess_data)"
   ]
  },
  {
   "cell_type": "code",
   "execution_count": 19,
   "id": "4f43ef33",
   "metadata": {},
   "outputs": [
    {
     "data": {
      "text/plain": [
       "'\"illesteva - murdoch round acet sunglass - men - black\"'"
      ]
     },
     "execution_count": 19,
     "metadata": {},
     "output_type": "execute_result"
    }
   ],
   "source": [
    "df['Product'][459]"
   ]
  },
  {
   "cell_type": "code",
   "execution_count": 19,
   "id": "7c4f398a",
   "metadata": {},
   "outputs": [],
   "source": [
    "# tokens = df['description'][0]\n",
    "\n",
    "# nltk.pos_tag(word_tokenize(tokens))"
   ]
  },
  {
   "cell_type": "code",
   "execution_count": 20,
   "id": "caf2a9a8",
   "metadata": {},
   "outputs": [],
   "source": [
    "vectorizer = CountVectorizer()\n",
    "vectorizer.fit(df['Product'])\n",
    "vector = vectorizer.transform(df['Product'])"
   ]
  },
  {
   "cell_type": "code",
   "execution_count": 21,
   "id": "053b0d81",
   "metadata": {},
   "outputs": [
    {
     "name": "stdout",
     "output_type": "stream",
     "text": [
      "(10889, 8329)\n",
      "[[0 0 0 ... 0 0 0]\n",
      " [0 0 0 ... 0 0 0]\n",
      " [0 0 0 ... 0 0 0]\n",
      " ...\n",
      " [0 0 0 ... 0 0 0]\n",
      " [0 0 0 ... 0 0 0]\n",
      " [0 0 0 ... 0 0 0]]\n"
     ]
    }
   ],
   "source": [
    "print(vector.shape)\n",
    "print(vector.toarray())"
   ]
  },
  {
   "cell_type": "code",
   "execution_count": 22,
   "id": "b0903306",
   "metadata": {},
   "outputs": [
    {
     "data": {
      "text/plain": [
       "array([[0., 0., 0., ..., 0., 0., 0.],\n",
       "       [0., 0., 0., ..., 0., 0., 0.],\n",
       "       [0., 0., 0., ..., 0., 0., 0.],\n",
       "       ...,\n",
       "       [0., 0., 0., ..., 0., 0., 0.],\n",
       "       [0., 0., 0., ..., 0., 0., 0.],\n",
       "       [0., 0., 0., ..., 0., 0., 0.]])"
      ]
     },
     "execution_count": 22,
     "metadata": {},
     "output_type": "execute_result"
    }
   ],
   "source": [
    "tfidf_converter = TfidfTransformer()\n",
    "X_tfidf = tfidf_converter.fit_transform(vector).toarray()\n",
    "X_tfidf"
   ]
  },
  {
   "cell_type": "code",
   "execution_count": 23,
   "id": "301effd5",
   "metadata": {},
   "outputs": [],
   "source": [
    "X = df['Product']\n",
    "y = df['Category']\n",
    "\n",
    "X_train, X_test, y_train, y_test = train_test_split(X, y, test_size=0.25, random_state=42)"
   ]
  },
  {
   "cell_type": "code",
   "execution_count": 24,
   "id": "fc0b4af8",
   "metadata": {},
   "outputs": [
    {
     "data": {
      "text/plain": [
       "((8166,), (2723,), (8166,), (2723,))"
      ]
     },
     "execution_count": 24,
     "metadata": {},
     "output_type": "execute_result"
    }
   ],
   "source": [
    "X_train.shape, X_test.shape, y_train.shape, y_test.shape"
   ]
  },
  {
   "cell_type": "code",
   "execution_count": null,
   "id": "94b00571",
   "metadata": {},
   "outputs": [],
   "source": []
  },
  {
   "cell_type": "code",
   "execution_count": 25,
   "id": "8f9b1878",
   "metadata": {},
   "outputs": [],
   "source": [
    "def get_models(X_train, X_test, y_train, y_test):\n",
    "    models = pd.DataFrame()\n",
    "    classifiers = [\n",
    "        LogisticRegression(),\n",
    "        LinearSVC(),\n",
    "        MultinomialNB(),\n",
    "        RandomForestClassifier(n_estimators=50),\n",
    "        GradientBoostingClassifier(n_estimators=50), ]\n",
    "\n",
    "    for classifier in classifiers:\n",
    "        pipeline = Pipeline(steps=[('vect', CountVectorizer(\n",
    "                               min_df=5, ngram_range=(1, 2))),\n",
    "                                    ('tfidf', TfidfTransformer()),\n",
    "                                    ('classifier', classifier)])\n",
    "        pipeline.fit(X_train, y_train)\n",
    "        score = pipeline.score(X_test, y_test)\n",
    "        param_dict = {\n",
    "                      'Model': classifier.__class__.__name__,\n",
    "                      'Score': score\n",
    "                     }\n",
    "        models = models.append(pd.DataFrame(param_dict, index=[0]))\n",
    "\n",
    "    models.reset_index(drop=True, inplace=True)\n",
    "    print(models.sort_values(by='Score', ascending=False))"
   ]
  },
  {
   "cell_type": "code",
   "execution_count": 26,
   "id": "b9966713",
   "metadata": {},
   "outputs": [
    {
     "name": "stderr",
     "output_type": "stream",
     "text": [
      "C:\\Users\\SANDRA\\AppData\\Local\\Temp\\ipykernel_16676\\593421024.py:21: FutureWarning: The frame.append method is deprecated and will be removed from pandas in a future version. Use pandas.concat instead.\n",
      "  models = models.append(pd.DataFrame(param_dict, index=[0]))\n",
      "C:\\Users\\SANDRA\\AppData\\Local\\Temp\\ipykernel_16676\\593421024.py:21: FutureWarning: The frame.append method is deprecated and will be removed from pandas in a future version. Use pandas.concat instead.\n",
      "  models = models.append(pd.DataFrame(param_dict, index=[0]))\n",
      "C:\\Users\\SANDRA\\AppData\\Local\\Temp\\ipykernel_16676\\593421024.py:21: FutureWarning: The frame.append method is deprecated and will be removed from pandas in a future version. Use pandas.concat instead.\n",
      "  models = models.append(pd.DataFrame(param_dict, index=[0]))\n",
      "C:\\Users\\SANDRA\\AppData\\Local\\Temp\\ipykernel_16676\\593421024.py:21: FutureWarning: The frame.append method is deprecated and will be removed from pandas in a future version. Use pandas.concat instead.\n",
      "  models = models.append(pd.DataFrame(param_dict, index=[0]))\n"
     ]
    },
    {
     "name": "stdout",
     "output_type": "stream",
     "text": [
      "                        Model     Score\n",
      "1                   LinearSVC  0.925083\n",
      "3      RandomForestClassifier  0.897539\n",
      "0          LogisticRegression  0.895703\n",
      "4  GradientBoostingClassifier  0.850900\n",
      "2               MultinomialNB  0.838414\n"
     ]
    },
    {
     "name": "stderr",
     "output_type": "stream",
     "text": [
      "C:\\Users\\SANDRA\\AppData\\Local\\Temp\\ipykernel_16676\\593421024.py:21: FutureWarning: The frame.append method is deprecated and will be removed from pandas in a future version. Use pandas.concat instead.\n",
      "  models = models.append(pd.DataFrame(param_dict, index=[0]))\n"
     ]
    }
   ],
   "source": [
    "get_models(X_train, X_test, y_train, y_test)"
   ]
  },
  {
   "cell_type": "code",
   "execution_count": 27,
   "id": "902babdf",
   "metadata": {},
   "outputs": [],
   "source": [
    "# log_acc = accuracy_score(pred, y_test)\n",
    "# svm_acc = accuracy_score(y_pred, y_test)\n",
    "# nb_acc = accuracy_score(pred_y, y_test)\n",
    "# rf_acc = accuracy_score(preds, y_test)\n",
    "# gb_acc = accuracy_score(predicted, y_test)\n",
    "# models = pd.DataFrame({\n",
    "#                       'Model': ['Logistic Regression', 'SVC', 'Naive Bayes', 'Random Forest', 'Gradient Boosting'],\n",
    "#                       'Score': [log_acc, svm_acc, nb_acc, rf_acc, gb_acc]})\n",
    "# models.sort_values(by='Score', ascending=False)"
   ]
  },
  {
   "cell_type": "code",
   "execution_count": null,
   "id": "20e36e57",
   "metadata": {},
   "outputs": [],
   "source": []
  },
  {
   "cell_type": "code",
   "execution_count": null,
   "id": "7e6980e6",
   "metadata": {},
   "outputs": [],
   "source": []
  },
  {
   "cell_type": "code",
   "execution_count": 29,
   "id": "e8619f3c",
   "metadata": {},
   "outputs": [
    {
     "name": "stdout",
     "output_type": "stream",
     "text": [
      "accuracy 0.9250826294528094\n",
      "                          precision    recall  f1-score   support\n",
      "\n",
      "             Accessories       0.97      0.98      0.97       295\n",
      "              Activewear       0.93      0.87      0.90       130\n",
      "               Baby Care       1.00      0.79      0.88        28\n",
      "   Bakery, Cakes & Dairy       0.79      0.54      0.64        28\n",
      "        Beauty & Hygiene       0.95      0.98      0.96       833\n",
      "               Beverages       0.71      0.57      0.63        21\n",
      "    Cleaning & Household       0.88      0.84      0.86       131\n",
      "       Eggs, Meat & Fish       0.98      0.95      0.97        61\n",
      "Foodgrains, Oil & Masala       0.79      0.81      0.80       110\n",
      "     Fruits & Vegetables       1.00      0.72      0.84        18\n",
      "    Gourmet & World Food       0.70      0.70      0.70        97\n",
      "                 Jewelry       0.92      0.86      0.89        28\n",
      "  Kitchen, Garden & Pets       0.94      0.95      0.94       304\n",
      "                   Pants       0.94      0.90      0.92       115\n",
      "                  Shirts       0.94      0.99      0.96       138\n",
      "                   Shoes       0.99      0.98      0.99       197\n",
      "  Snacks & Branded Foods       0.66      0.74      0.69        57\n",
      "                   Suits       0.91      0.97      0.94        33\n",
      "                Sweaters       0.98      0.93      0.95        43\n",
      " Underwear and Nightwear       0.95      0.96      0.96        56\n",
      "\n",
      "                accuracy                           0.93      2723\n",
      "               macro avg       0.90      0.85      0.87      2723\n",
      "            weighted avg       0.93      0.93      0.92      2723\n",
      "\n"
     ]
    }
   ],
   "source": [
    "svc = Pipeline([('vect', CountVectorizer(min_df=5, ngram_range=(1,2))),\n",
    "               ('tfidf', TfidfTransformer()),\n",
    "               ('model',LinearSVC()),\n",
    "               ])\n",
    "\n",
    "svc.fit(X_train, y_train)\n",
    "\n",
    "ytest = np.array(y_test)\n",
    "y_pred = svc.predict(X_test)\n",
    "print('accuracy %s' % accuracy_score(y_pred, y_test))\n",
    "# print(classification_report(ytest, y_pred))"
   ]
  },
  {
   "cell_type": "code",
   "execution_count": 30,
   "id": "56c25d64",
   "metadata": {},
   "outputs": [],
   "source": [
    "pickle.dump(svc, open('SVC_model.pkl', 'wb'))"
   ]
  },
  {
   "cell_type": "code",
   "execution_count": 31,
   "id": "9ada7d33",
   "metadata": {},
   "outputs": [],
   "source": [
    "with open('SVC_model.pkl', 'rb') as f:\n",
    "    model = load(f)"
   ]
  },
  {
   "cell_type": "code",
   "execution_count": 32,
   "id": "ade73bee",
   "metadata": {},
   "outputs": [
    {
     "name": "stdout",
     "output_type": "stream",
     "text": [
      "['Shirts']\n"
     ]
    }
   ],
   "source": [
    "text = [\"shirt red\"]\n",
    "prediction = model.predict(text)\n",
    "\n",
    "print(prediction)"
   ]
  },
  {
   "cell_type": "code",
   "execution_count": null,
   "id": "7cf8b5ee",
   "metadata": {},
   "outputs": [],
   "source": []
  },
  {
   "cell_type": "code",
   "execution_count": null,
   "id": "3c853961",
   "metadata": {},
   "outputs": [],
   "source": []
  },
  {
   "cell_type": "code",
   "execution_count": null,
   "id": "48fe267f",
   "metadata": {},
   "outputs": [],
   "source": []
  },
  {
   "cell_type": "code",
   "execution_count": null,
   "id": "4c23a5c7",
   "metadata": {},
   "outputs": [],
   "source": []
  },
  {
   "cell_type": "code",
   "execution_count": null,
   "id": "398f319e",
   "metadata": {},
   "outputs": [],
   "source": []
  },
  {
   "cell_type": "code",
   "execution_count": null,
   "id": "bdc5402b",
   "metadata": {},
   "outputs": [],
   "source": []
  }
 ],
 "metadata": {
  "kernelspec": {
   "display_name": "Python 3 (ipykernel)",
   "language": "python",
   "name": "python3"
  },
  "language_info": {
   "codemirror_mode": {
    "name": "ipython",
    "version": 3
   },
   "file_extension": ".py",
   "mimetype": "text/x-python",
   "name": "python",
   "nbconvert_exporter": "python",
   "pygments_lexer": "ipython3",
   "version": "3.10.6"
  }
 },
 "nbformat": 4,
 "nbformat_minor": 5
}
